{
 "cells": [
  {
   "cell_type": "markdown",
   "metadata": {},
   "source": [
    "## Step 1 - load lib, setup logging"
   ]
  },
  {
   "cell_type": "code",
   "execution_count": 2,
   "metadata": {},
   "outputs": [],
   "source": [
    "import logging\n",
    "import coloredlogs\n",
    "import asyncio \n",
    "\n",
    "from ph4_walkingpad import pad\n",
    "from ph4_walkingpad.pad import Scanner, WalkingPad, WalkingPadCurStatus, WalkingPadLastStatus, Controller\n",
    "from ph4_walkingpad.utils import setup_logging\n",
    "\n",
    "log = setup_logging()\n",
    "pad.logger = log\n",
    "#coloredlogs.install(level=logging.INFO)"
   ]
  },
  {
   "cell_type": "markdown",
   "metadata": {
    "scrolled": false
   },
   "source": [
    "## Step 2 - scan devices"
   ]
  },
  {
   "cell_type": "code",
   "execution_count": 8,
   "metadata": {},
   "outputs": [
    {
     "name": "stdout",
     "output_type": "stream",
     "text": [
      "Scanning for peripherals...\n",
      "Scanning for peripherals...\n",
      "Scanning kwargs: {'service_uuids': ['00001800-0000-1000-8000-00805f9b34fb', '0000180a-0000-1000-8000-00805f9b34fb', '00010203-0405-0607-0809-0a0b0c0d1912', '0000fe00-0000-1000-8000-00805f9b34fb', '00002902-0000-1000-8000-00805f9b34fb', '00010203-0405-0607-0809-0a0b0c0d1912', '00002901-0000-1000-8000-00805f9b34fb', '00002a00-0000-1000-8000-00805f9b34fb', '00002a01-0000-1000-8000-00805f9b34fb', '00002a04-0000-1000-8000-00805f9b34fb', '00002a25-0000-1000-8000-00805f9b34fb', '00002a26-0000-1000-8000-00805f9b34fb', '00002a28-0000-1000-8000-00805f9b34fb', '00002a24-0000-1000-8000-00805f9b34fb', '00002a29-0000-1000-8000-00805f9b34fb', '0000fe01-0000-1000-8000-00805f9b34fb', '0000fe02-0000-1000-8000-00805f9b34fb', '00010203-0405-0607-0809-0a0b0c0d2b12']}\n",
      "Scanning kwargs: {'service_uuids': ['00001800-0000-1000-8000-00805f9b34fb', '0000180a-0000-1000-8000-00805f9b34fb', '00010203-0405-0607-0809-0a0b0c0d1912', '0000fe00-0000-1000-8000-00805f9b34fb', '00002902-0000-1000-8000-00805f9b34fb', '00010203-0405-0607-0809-0a0b0c0d1912', '00002901-0000-1000-8000-00805f9b34fb', '00002a00-0000-1000-8000-00805f9b34fb', '00002a01-0000-1000-8000-00805f9b34fb', '00002a04-0000-1000-8000-00805f9b34fb', '00002a25-0000-1000-8000-00805f9b34fb', '00002a26-0000-1000-8000-00805f9b34fb', '00002a28-0000-1000-8000-00805f9b34fb', '00002a24-0000-1000-8000-00805f9b34fb', '00002a29-0000-1000-8000-00805f9b34fb', '0000fe01-0000-1000-8000-00805f9b34fb', '0000fe02-0000-1000-8000-00805f9b34fb', '00010203-0405-0607-0809-0a0b0c0d2b12']}\n",
      "Device: [ 0], E400783E-725B-ACF7-0208-C5A3222C6C4B, KS-ST-A1P, ['0000fe00-0000-1000-8000-00805f9b34fb']\n",
      "Device: [ 0], E400783E-725B-ACF7-0208-C5A3222C6C4B, KS-ST-A1P, ['0000fe00-0000-1000-8000-00805f9b34fb']\n"
     ]
    }
   ],
   "source": [
    "scanner = Scanner()\n",
    "await scanner.scan() #If the walkingpad is named 'walkingpad'\n",
    "# await scanner.scan(customname='Mad') #Set a custom name for scanning. My pad is named 'RE'\n"
   ]
  },
  {
   "cell_type": "markdown",
   "metadata": {},
   "source": [
    "## Step 3 - connect to the WalkingPad"
   ]
  },
  {
   "cell_type": "code",
   "execution_count": 9,
   "metadata": {},
   "outputs": [
    {
     "name": "stdout",
     "output_type": "stream",
     "text": [
      "Connecting to E400783E-725B-ACF7-0208-C5A3222C6C4B\n",
      "Connecting to E400783E-725B-ACF7-0208-C5A3222C6C4B\n",
      "Connected: True\n",
      "Connected: True\n",
      "[Service] 0000180a-0000-1000-8000-00805f9b34fb: Device Information\n",
      "[Service] 0000180a-0000-1000-8000-00805f9b34fb: Device Information\n",
      "\t[Characteristic] 00002a25-0000-1000-8000-00805f9b34fb: (Handle: 9) (read) | Name: Serial Number String, Value: b'Serial Number\\x00' \n",
      "\t[Characteristic] 00002a25-0000-1000-8000-00805f9b34fb: (Handle: 9) (read) | Name: Serial Number String, Value: b'Serial Number\\x00' \n",
      "\t[Characteristic] 00002a26-0000-1000-8000-00805f9b34fb: (Handle: 11) (read) | Name: Firmware Revision String, Value: b'M30_V187.2.2\\x00' \n",
      "\t[Characteristic] 00002a26-0000-1000-8000-00805f9b34fb: (Handle: 11) (read) | Name: Firmware Revision String, Value: b'M30_V187.2.2\\x00' \n",
      "\t[Characteristic] 00002a28-0000-1000-8000-00805f9b34fb: (Handle: 13) (read) | Name: Software Revision String, Value: b'Hardware Revision\\x00' \n",
      "\t[Characteristic] 00002a28-0000-1000-8000-00805f9b34fb: (Handle: 13) (read) | Name: Software Revision String, Value: b'Hardware Revision\\x00' \n",
      "\t[Characteristic] 00002a24-0000-1000-8000-00805f9b34fb: (Handle: 15) (read) | Name: Model Number String, Value: b'WLT8266M\\x00' \n",
      "\t[Characteristic] 00002a24-0000-1000-8000-00805f9b34fb: (Handle: 15) (read) | Name: Model Number String, Value: b'WLT8266M\\x00' \n",
      "\t[Characteristic] 00002a29-0000-1000-8000-00805f9b34fb: (Handle: 17) (read) | Name: Manufacturer Name String, Value: b'Software Revision\\x00' \n",
      "\t[Characteristic] 00002a29-0000-1000-8000-00805f9b34fb: (Handle: 17) (read) | Name: Manufacturer Name String, Value: b'Software Revision\\x00' \n",
      "[Service] 0000fe00-0000-1000-8000-00805f9b34fb: Vendor specific\n",
      "[Service] 0000fe00-0000-1000-8000-00805f9b34fb: Vendor specific\n",
      "\t[Characteristic] 0000fe01-0000-1000-8000-00805f9b34fb: (Handle: 20) (read,notify) | Name: Vendor specific, Value: None \n",
      "\t[Characteristic] 0000fe01-0000-1000-8000-00805f9b34fb: (Handle: 20) (read,notify) | Name: Vendor specific, Value: None \n",
      "\t\t[Descriptor] 00002902-0000-1000-8000-00805f9b34fb: (Handle: 22) | Value: b'' \n",
      "\t\t[Descriptor] 00002902-0000-1000-8000-00805f9b34fb: (Handle: 22) | Value: b'' \n",
      "\t[Characteristic] 0000fe02-0000-1000-8000-00805f9b34fb: (Handle: 23) (write-without-response) | Name: Vendor specific, Value: None \n",
      "\t[Characteristic] 0000fe02-0000-1000-8000-00805f9b34fb: (Handle: 23) (write-without-response) | Name: Vendor specific, Value: None \n",
      "[Service] 00010203-0405-0607-0809-0a0b0c0d1912: Unknown\n",
      "[Service] 00010203-0405-0607-0809-0a0b0c0d1912: Unknown\n",
      "\t[Characteristic] 00010203-0405-0607-0809-0a0b0c0d2b12: (Handle: 26) (read,write-without-response) | Name: Unknown, Value: b'\\x00' \n",
      "\t[Characteristic] 00010203-0405-0607-0809-0a0b0c0d2b12: (Handle: 26) (read,write-without-response) | Name: Unknown, Value: b'\\x00' \n",
      "\t\t[Descriptor] 00002901-0000-1000-8000-00805f9b34fb: (Handle: 28) | Value: b'OTA' \n",
      "\t\t[Descriptor] 00002901-0000-1000-8000-00805f9b34fb: (Handle: 28) | Value: b'OTA' \n",
      "Enabling notification for 0000fe01-0000-1000-8000-00805f9b34fb\n",
      "Enabling notification for 0000fe01-0000-1000-8000-00805f9b34fb\n",
      "Service enumeration done\n",
      "Service enumeration done\n"
     ]
    },
    {
     "ename": "IndexError",
     "evalue": "list index out of range",
     "output_type": "error",
     "traceback": [
      "\u001b[0;31m---------------------------------------------------------------------------\u001b[0m",
      "\u001b[0;31mIndexError\u001b[0m                                Traceback (most recent call last)",
      "Cell \u001b[0;32mIn[9], line 5\u001b[0m\n\u001b[1;32m      2\u001b[0m \u001b[38;5;28;01mawait\u001b[39;00m ctler\u001b[38;5;241m.\u001b[39mrun(\u001b[38;5;124m'\u001b[39m\u001b[38;5;124mE400783E-725B-ACF7-0208-C5A3222C6C4B\u001b[39m\u001b[38;5;124m'\u001b[39m)  \u001b[38;5;66;03m# set UUID from the scanning (OSX), or MAC address\u001b[39;00m\n\u001b[1;32m      4\u001b[0m \u001b[38;5;66;03m# Note that OSX 12+ does not allow using address directly, use scanner result instead\u001b[39;00m\n\u001b[0;32m----> 5\u001b[0m \u001b[38;5;28;01mawait\u001b[39;00m ctler\u001b[38;5;241m.\u001b[39mrun(scanner\u001b[38;5;241m.\u001b[39mwalking_belt_candidates[\u001b[38;5;241m0\u001b[39m])\n",
      "\u001b[0;31mIndexError\u001b[0m: list index out of range"
     ]
    }
   ],
   "source": [
    "ctler = Controller()\n",
    "await ctler.run('E400783E-725B-ACF7-0208-C5A3222C6C4B')  # set UUID from the scanning (OSX), or MAC address\n",
    "\n",
    "# Note that OSX 12+ does not allow using address directly, use scanner result instead\n",
    "await ctler.run(scanner.walking_belt_candidates[0])"
   ]
  },
  {
   "cell_type": "markdown",
   "metadata": {},
   "source": [
    "## Start belt"
   ]
  },
  {
   "cell_type": "code",
   "execution_count": 17,
   "metadata": {},
   "outputs": [
    {
     "name": "stdout",
     "output_type": "stream",
     "text": [
      "Msg: f8, a2, 00, 00, 01, 00, 00, 00, 00, 00, 00, 00, 00, 00, 01, 00, 00, 00, a4, fd\n",
      "Msg: f8, a2, 00, 00, 01, 00, 00, 00, 00, 00, 00, 00, 00, 00, 01, 00, 00, 00, a4, fd\n",
      "Status: WalkingPadCurStatus(dist=0.0, time=0, steps=0, speed=0.0, state=0, mode=1, app_speed=0.03333333333333333, button=1, rest=0000)\n",
      "Status: WalkingPadCurStatus(dist=0.0, time=0, steps=0, speed=0.0, state=0, mode=1, app_speed=0.03333333333333333, button=1, rest=0000)\n",
      "Msg: f8, a2, 09, 00, 01, 00, 00, 00, 00, 00, 00, 00, 00, 00, 01, 00, 03, 00, b0, fd\n",
      "Msg: f8, a2, 09, 00, 01, 00, 00, 00, 00, 00, 00, 00, 00, 00, 01, 00, 03, 00, b0, fd\n",
      "Status: WalkingPadCurStatus(dist=0.0, time=0, steps=0, speed=0.0, state=9, mode=1, app_speed=0.03333333333333333, button=1, rest=0000)\n",
      "Status: WalkingPadCurStatus(dist=0.0, time=0, steps=0, speed=0.0, state=9, mode=1, app_speed=0.03333333333333333, button=1, rest=0000)\n"
     ]
    }
   ],
   "source": [
    "await ctler.switch_mode(WalkingPad.MODE_MANUAL)\n",
    "await asyncio.sleep(1.0)\n",
    "await ctler.start_belt()"
   ]
  },
  {
   "cell_type": "markdown",
   "metadata": {},
   "source": [
    "## Fetch statistics"
   ]
  },
  {
   "cell_type": "code",
   "execution_count": 11,
   "metadata": {},
   "outputs": [
    {
     "name": "stdout",
     "output_type": "stream",
     "text": [
      "Msg: f8, a2, 00, 00, 01, 00, 00, 00, 00, 00, 00, 00, 00, 00, 01, 00, 00, 00, a4, fd\n",
      "Msg: f8, a2, 00, 00, 01, 00, 00, 00, 00, 00, 00, 00, 00, 00, 01, 00, 00, 00, a4, fd\n",
      "Status: WalkingPadCurStatus(dist=0.0, time=0, steps=0, speed=0.0, state=0, mode=1, app_speed=0.03333333333333333, button=1, rest=0000)\n",
      "Status: WalkingPadCurStatus(dist=0.0, time=0, steps=0, speed=0.0, state=0, mode=1, app_speed=0.03333333333333333, button=1, rest=0000)\n",
      "Msg: f8, a2, 00, 00, 01, 00, 00, 00, 00, 00, 00, 00, 00, 00, 01, 00, 00, 00, a4, fd\n",
      "Msg: f8, a2, 00, 00, 01, 00, 00, 00, 00, 00, 00, 00, 00, 00, 01, 00, 00, 00, a4, fd\n",
      "Status: WalkingPadCurStatus(dist=0.0, time=0, steps=0, speed=0.0, state=0, mode=1, app_speed=0.03333333333333333, button=1, rest=0000)\n",
      "Status: WalkingPadCurStatus(dist=0.0, time=0, steps=0, speed=0.0, state=0, mode=1, app_speed=0.03333333333333333, button=1, rest=0000)\n",
      "Msg: f8, a2, 00, 00, 01, 00, 00, 00, 00, 00, 00, 00, 00, 00, 01, 00, 00, 00, a4, fd\n",
      "Msg: f8, a2, 00, 00, 01, 00, 00, 00, 00, 00, 00, 00, 00, 00, 01, 00, 00, 00, a4, fd\n",
      "Status: WalkingPadCurStatus(dist=0.0, time=0, steps=0, speed=0.0, state=0, mode=1, app_speed=0.03333333333333333, button=1, rest=0000)\n",
      "Status: WalkingPadCurStatus(dist=0.0, time=0, steps=0, speed=0.0, state=0, mode=1, app_speed=0.03333333333333333, button=1, rest=0000)\n",
      "Msg: f8, a2, 00, 00, 01, 00, 00, 00, 00, 00, 00, 00, 00, 00, 01, 00, 00, 00, a4, fd\n",
      "Msg: f8, a2, 00, 00, 01, 00, 00, 00, 00, 00, 00, 00, 00, 00, 01, 00, 00, 00, a4, fd\n",
      "Status: WalkingPadCurStatus(dist=0.0, time=0, steps=0, speed=0.0, state=0, mode=1, app_speed=0.03333333333333333, button=1, rest=0000)\n",
      "Status: WalkingPadCurStatus(dist=0.0, time=0, steps=0, speed=0.0, state=0, mode=1, app_speed=0.03333333333333333, button=1, rest=0000)\n",
      "Msg: f8, a2, 00, 00, 01, 00, 00, 00, 00, 00, 00, 00, 00, 00, 01, 00, 00, 00, a4, fd\n",
      "Msg: f8, a2, 00, 00, 01, 00, 00, 00, 00, 00, 00, 00, 00, 00, 01, 00, 00, 00, a4, fd\n",
      "Status: WalkingPadCurStatus(dist=0.0, time=0, steps=0, speed=0.0, state=0, mode=1, app_speed=0.03333333333333333, button=1, rest=0000)\n",
      "Status: WalkingPadCurStatus(dist=0.0, time=0, steps=0, speed=0.0, state=0, mode=1, app_speed=0.03333333333333333, button=1, rest=0000)\n"
     ]
    }
   ],
   "source": [
    "for i in range(5):\n",
    "    await ctler.ask_stats()\n",
    "    await asyncio.sleep(1.0)"
   ]
  },
  {
   "cell_type": "markdown",
   "metadata": {},
   "source": [
    "## Speed change\n"
   ]
  },
  {
   "cell_type": "code",
   "execution_count": 12,
   "metadata": {},
   "outputs": [
    {
     "name": "stdout",
     "output_type": "stream",
     "text": [
      "Msg: f8, a2, 00, 00, 01, 00, 00, 00, 00, 00, 00, 00, 00, 00, 36, 00, 00, 00, d9, fd\n",
      "Msg: f8, a2, 00, 00, 01, 00, 00, 00, 00, 00, 00, 00, 00, 00, 36, 00, 00, 00, d9, fd\n",
      "Status: WalkingPadCurStatus(dist=0.0, time=0, steps=0, speed=0.0, state=0, mode=1, app_speed=1.8, button=1, rest=0000)\n",
      "Status: WalkingPadCurStatus(dist=0.0, time=0, steps=0, speed=0.0, state=0, mode=1, app_speed=1.8, button=1, rest=0000)\n"
     ]
    }
   ],
   "source": [
    "await ctler.change_speed(18)"
   ]
  },
  {
   "cell_type": "markdown",
   "metadata": {},
   "source": [
    "## Ask history record"
   ]
  },
  {
   "cell_type": "code",
   "execution_count": 13,
   "metadata": {},
   "outputs": [
    {
     "name": "stdout",
     "output_type": "stream",
     "text": [
      "Msg: f8, a7, 00, 00, 00, 00, 00, 00, 00, 00, 00, 00, 00, 00, 00, 00, 00, 00, a7, fd\n",
      "Msg: f8, a7, 00, 00, 00, 00, 00, 00, 00, 00, 00, 00, 00, 00, 00, 00, 00, 00, a7, fd\n",
      "Record: WalkingPadLastStatus(dist=0.0, time=0, steps=0, rest=000000000000)\n",
      "Record: WalkingPadLastStatus(dist=0.0, time=0, steps=0, rest=000000000000)\n"
     ]
    }
   ],
   "source": [
    "await ctler.ask_hist(0)"
   ]
  },
  {
   "cell_type": "markdown",
   "metadata": {},
   "source": [
    "## Stop belt"
   ]
  },
  {
   "cell_type": "code",
   "execution_count": 16,
   "metadata": {},
   "outputs": [
    {
     "name": "stdout",
     "output_type": "stream",
     "text": [
      "Msg: f8, a2, 01, 0d, 01, 00, 00, 01, 00, 00, 00, 00, 00, 00, 00, 00, 00, 00, b2, fd\n",
      "Msg: f8, a2, 01, 0d, 01, 00, 00, 01, 00, 00, 00, 00, 00, 00, 00, 00, 00, 00, b2, fd\n",
      "Status: WalkingPadCurStatus(dist=0.0, time=1, steps=0, speed=1.3, state=1, mode=1, app_speed=0, button=1, rest=0000)\n",
      "Status: WalkingPadCurStatus(dist=0.0, time=1, steps=0, speed=1.3, state=1, mode=1, app_speed=0, button=1, rest=0000)\n",
      "Msg: f8, a2, 01, 05, 02, 00, 00, 02, 00, 00, 00, 00, 00, 00, 02, 00, 00, 00, ae, fd\n",
      "Msg: f8, a2, 01, 05, 02, 00, 00, 02, 00, 00, 00, 00, 00, 00, 02, 00, 00, 00, ae, fd\n",
      "Status: WalkingPadCurStatus(dist=0.0, time=2, steps=0, speed=0.5, state=1, mode=2, app_speed=0.06666666666666667, button=2, rest=0000)\n",
      "Status: WalkingPadCurStatus(dist=0.0, time=2, steps=0, speed=0.5, state=1, mode=2, app_speed=0.06666666666666667, button=2, rest=0000)\n"
     ]
    }
   ],
   "source": [
    "# Stop belt\n",
    "await ctler.stop_belt()\n",
    "await asyncio.sleep(1.0)\n",
    "\n",
    "# Standby\n",
    "await ctler.switch_mode(WalkingPad.MODE_STANDBY)"
   ]
  },
  {
   "cell_type": "markdown",
   "metadata": {},
   "source": [
    "## Disconnect Bluetooth LE"
   ]
  },
  {
   "cell_type": "code",
   "execution_count": 13,
   "metadata": {},
   "outputs": [],
   "source": [
    "# Call before terminating\n",
    "await ctler.disconnect()"
   ]
  },
  {
   "cell_type": "code",
   "execution_count": null,
   "metadata": {},
   "outputs": [],
   "source": []
  }
 ],
 "metadata": {
  "kernelspec": {
   "display_name": "Python 3 (ipykernel)",
   "language": "python",
   "name": "python3"
  },
  "language_info": {
   "codemirror_mode": {
    "name": "ipython",
    "version": 3
   },
   "file_extension": ".py",
   "mimetype": "text/x-python",
   "name": "python",
   "nbconvert_exporter": "python",
   "pygments_lexer": "ipython3",
   "version": "3.12.7"
  }
 },
 "nbformat": 4,
 "nbformat_minor": 4
}
